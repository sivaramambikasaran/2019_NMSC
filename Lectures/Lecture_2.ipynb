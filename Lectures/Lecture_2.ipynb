{
 "cells": [
  {
   "cell_type": "markdown",
   "metadata": {},
   "source": [
    "<b>Date: July 30, 2019</b>\n",
    "\n",
    "Consider computing the integral\n",
    "$$I_{n} = \\int_0^1 x^{2n} \\sin(\\pi x) dx$$\n",
    "We have\n",
    "\\begin{align}\n",
    "I_{n} & = -\\dfrac1{\\pi} \\int_0^1 x^{2n} d\\left(\\cos(\\pi x)\\right)\\\\\n",
    "&= -\\dfrac1{\\pi}\\left(\\cos(\\pi)-{2n}\\int_0^1x^{2n-1}\\cos(\\pi x)dx\\right)\\\\\n",
    "& = \\dfrac1{\\pi} + \\dfrac{2n}{\\pi}\\int_0^1x^{2n-1}\\cos(\\pi x)dx\\\\\n",
    "& = \\dfrac1{\\pi} + \\dfrac{2n}{\\pi}\\left(\\dfrac1{\\pi}\\int_0^1 x^{2n-1}d\\left(\\sin(\\pi x)\\right)\\right)\\\\\n",
    "& = \\dfrac1{\\pi} - \\dfrac{2n}{\\pi^2} (2n-1)\\int_0^1 x^{2n-2} \\sin(\\pi x)dx\\\\\n",
    "& = \\dfrac1{\\pi} - \\dfrac{(2n)(2n-1)}{\\pi^2}I_{n-1}\n",
    "\\end{align}"
   ]
  },
  {
   "cell_type": "code",
   "execution_count": 1,
   "metadata": {},
   "outputs": [
    {
     "data": {
      "text/plain": [
       "array([ 6.36619772e-01,  1.89303748e-01,  8.81441279e-02,  5.03838652e-02,\n",
       "        3.24325259e-02,  2.25607138e-02,  1.65739605e-02,  1.26785061e-02,\n",
       "        1.00055869e-02,  8.09384519e-03,  6.68025569e-03,  5.60453300e-03,\n",
       "        4.85231576e-03, -1.25765859e-03,  4.14645044e-01, -3.62324143e+01,\n",
       "        3.64206052e+03, -4.14037747e+05,  5.28580015e+07, -7.53002319e+09,\n",
       "        1.19020335e+12])"
      ]
     },
     "metadata": {},
     "output_type": "display_data"
    }
   ],
   "source": [
    "import numpy as np;\n",
    "N = 21;\n",
    "I = np.zeros(N);\n",
    "pi = np.pi;\n",
    "I[0] = 2.0/pi;\n",
    "for n in range(1,N):\n",
    "    I[n] = 1/pi-(2*n)*(2*n-1)/pi/pi*I[n-1];\n",
    "display(I)"
   ]
  },
  {
   "cell_type": "code",
   "execution_count": 2,
   "metadata": {},
   "outputs": [
    {
     "data": {
      "text/plain": [
       "array([0.63661977, 0.18930375, 0.08814413, 0.05038387, 0.03243253,\n",
       "       0.02256071, 0.01657396, 0.01267851, 0.01000559, 0.00809385,\n",
       "       0.00668022, 0.00560599, 0.00477083, 0.00410887, 0.00357541,\n",
       "       0.00313929, 0.00277821, 0.00247594, 0.00222036, 0.00200236,\n",
       "       0.00181491])"
      ]
     },
     "metadata": {},
     "output_type": "display_data"
    }
   ],
   "source": [
    "from scipy.integrate import quad;\n",
    "pi = np.pi;\n",
    "N = 21;\n",
    "I_quad = np.zeros(N);\n",
    "def integrand(x,n):\n",
    "    return x**(2*n)*np.sin(pi*x);\n",
    "for n in range(0,N):\n",
    "    I_quad[n] = quad(integrand,0,1, args=(n))[0]\n",
    "display(I_quad)"
   ]
  }
 ],
 "metadata": {
  "kernelspec": {
   "display_name": "Python 3",
   "language": "python",
   "name": "python3"
  },
  "language_info": {
   "codemirror_mode": {
    "name": "ipython",
    "version": 3
   },
   "file_extension": ".py",
   "mimetype": "text/x-python",
   "name": "python",
   "nbconvert_exporter": "python",
   "pygments_lexer": "ipython3",
   "version": "3.6.6"
  }
 },
 "nbformat": 4,
 "nbformat_minor": 2
}
