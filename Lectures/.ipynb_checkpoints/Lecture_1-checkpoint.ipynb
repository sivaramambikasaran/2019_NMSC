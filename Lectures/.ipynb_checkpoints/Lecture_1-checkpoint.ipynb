{
 "cells": [
  {
   "cell_type": "markdown",
   "metadata": {},
   "source": [
    "<b>Date: July 29, 2019</b>\n",
    "\n",
    "<ul>\n",
    "<li>\n",
    "Course website and other logistics\n",
    "<li>\n",
    "Motivation: Why do this course?\n",
    "    <ul>\n",
    "    <li>\n",
    "    You can make &#8377;'s, &euro;'s &#36;'s etc; <a href=\"Turning Math into Cash\">Turning Math into Cash</a>\n",
    "    <li>\n",
    "    There are tons of open problems, when solved also turns out to be of practical relevance; <a href=\"https://people.maths.ox.ac.uk/trefethen/nov12.pdf\">The Smart Money’s on Numerical Analysts</a>\n",
    "    <li>\n",
    "    Makes you powerful; Provides you tools to advance any field; Almost every field these days have a sub-field prefixed with computational;\n",
    "    <ul>\n",
    "    <li>\n",
    "    Biology -> Computational Biology,\n",
    "    <li>\n",
    "    Fluid Dynamics -> Computational Fluid Dynamics,\n",
    "    <li>\n",
    "    Number Theory -> Computational Number Theory,\n",
    "    <li>\n",
    "    Machine learning -> Computational Learning Theory,\n",
    "    </ul>\n",
    "    \n",
    "</ul>\n",
    "\n",
    "<li>\n",
    "This course is an introductory course and we will be looking at the following topics:\n",
    "<ul>\n",
    "<li>\n",
    "Interpolation\n",
    "<li>\n",
    "Root finding\n",
    "<li>\n",
    "Numerical Integration\n",
    "<li>\n",
    "Numerical differentiation\n",
    "<li>\n",
    "Numerical solution of ordinary differential equations\n",
    "<li>\n",
    "Monte-Carlo methods\n",
    "</ul>\n",
    "\n",
    "</ul>\n",
    "\n",
    "As part of the course, we will be not only focussing on the computing part, but we will also be proving relevant theorems that are useful in the context of error estimates and convergence analysis.\n",
    "\n",
    "However, before getting into the above let's pause for a moment and look at the following.\n",
    "\n",
    "Consider the recurrence $a_{n+1} = 10a_n-9a_{n-1}$, with $a_0 = 2.95$ and $a_1 = 2.95$."
   ]
  },
  {
   "cell_type": "code",
   "execution_count": 1,
   "metadata": {},
   "outputs": [
    {
     "data": {
      "text/plain": [
       "array([   2.95      ,    2.95      ,    2.95      ,    2.95      ,\n",
       "          2.95      ,    2.95      ,    2.95      ,    2.95      ,\n",
       "          2.95      ,    2.95      ,    2.94999996,    2.94999966,\n",
       "          2.9499969 ,    2.94997213,    2.94974915,    2.94774237,\n",
       "          2.92968133,    2.76713194,    1.30418746,  -11.86231289,\n",
       "       -130.36081598])"
      ]
     },
     "metadata": {},
     "output_type": "display_data"
    }
   ],
   "source": [
    "import numpy as np;\n",
    "N = 20;\n",
    "a = np.zeros(N+1);\n",
    "a[0] = 2.95;\n",
    "a[1] = 2.95;\n",
    "for n in range(1,N):\n",
    "    a[n+1] = 10*a[n]-9*a[n-1];\n",
    "display(a)"
   ]
  },
  {
   "cell_type": "markdown",
   "metadata": {},
   "source": [
    "<li> What is happening above?\n",
    "<li> Why is it that we are unable to obtain the answer to such a simple problem?\n",
    "<li> Are we wasting our time doing computations, if we are unable to obtain solution to such simple problems?\n",
    "    \n",
    "Let's see what happens if I were to change the initial data from $2.95$ to $2.9375$."
   ]
  },
  {
   "cell_type": "code",
   "execution_count": 3,
   "metadata": {},
   "outputs": [
    {
     "data": {
      "text/plain": [
       "array([2.9375, 2.9375, 2.9375, 2.9375, 2.9375, 2.9375, 2.9375, 2.9375,\n",
       "       2.9375, 2.9375, 2.9375, 2.9375, 2.9375, 2.9375, 2.9375, 2.9375,\n",
       "       2.9375, 2.9375, 2.9375, 2.9375, 2.9375, 2.9375, 2.9375, 2.9375,\n",
       "       2.9375, 2.9375, 2.9375, 2.9375, 2.9375, 2.9375, 2.9375, 2.9375,\n",
       "       2.9375, 2.9375, 2.9375, 2.9375, 2.9375, 2.9375, 2.9375, 2.9375,\n",
       "       2.9375, 2.9375, 2.9375, 2.9375, 2.9375, 2.9375, 2.9375, 2.9375,\n",
       "       2.9375, 2.9375, 2.9375])"
      ]
     },
     "metadata": {},
     "output_type": "display_data"
    }
   ],
   "source": [
    "import numpy as np;\n",
    "N = 50;\n",
    "a = np.zeros(N+1);\n",
    "a[0] = 2.9375;\n",
    "a[1] = 2.9375;\n",
    "for n in range(1,N):\n",
    "    a[n+1] = 10*a[n]-9*a[n-1];\n",
    "display(a)"
   ]
  },
  {
   "cell_type": "markdown",
   "metadata": {},
   "source": [
    "Surprisingly, I seem to get the right answer even if I run the recurrence till $50$ terms. What is happening here?\n",
    "\n",
    "To answer, the above questions, we first need to look at how numbers get stored on our machine. In mathematics, we have uncountably infinite real numbers. However, our computers are finite machines and hence only a finite set of numbers can be represented. We will look more at this in the next class."
   ]
  },
  {
   "cell_type": "markdown",
   "metadata": {},
   "source": [
    "Consider computing the integral\n",
    "$$I_{n} = \\int_0^1 x^{2n} \\sin(\\pi x) dx$$\n",
    "We have\n",
    "\\begin{align}\n",
    "I_{n} & = -\\dfrac1{\\pi} \\int_0^1 x^{2n} d\\left(\\cos(\\pi x)\\right)\\\\\n",
    "&= -\\dfrac1{\\pi}\\left(\\cos(\\pi)-{2n}\\int_0^1x^{2n-1}\\cos(\\pi x)dx\\right)\\\\\n",
    "& = \\dfrac1{\\pi} + \\dfrac{2n}{\\pi}\\int_0^1x^{2n-1}\\cos(\\pi x)dx\\\\\n",
    "& = \\dfrac1{\\pi} + \\dfrac{2n}{\\pi}\\left(\\dfrac1{\\pi}\\int_0^1 x^{2n-1}d\\left(\\sin(\\pi x)\\right)\\right)\\\\\n",
    "& = \\dfrac1{\\pi} - \\dfrac{2n}{\\pi^2} (2n-1)\\int_0^1 x^{2n-2} \\sin(\\pi x)dx\\\\\n",
    "& = \\dfrac1{\\pi} - \\dfrac{(2n)(2n-1)}{\\pi^2}I_{n-1}\n",
    "\\end{align}"
   ]
  },
  {
   "cell_type": "code",
   "execution_count": null,
   "metadata": {},
   "outputs": [],
   "source": []
  },
  {
   "cell_type": "code",
   "execution_count": 49,
   "metadata": {},
   "outputs": [
    {
     "data": {
      "text/plain": [
       "array([  6.36619772e-01,   1.89303748e-01,   8.81441279e-02,\n",
       "         5.03838652e-02,   3.24325259e-02,   2.25607138e-02,\n",
       "         1.65739605e-02,   1.26785061e-02,   1.00055869e-02,\n",
       "         8.09384519e-03,   6.68025569e-03,   5.60453300e-03,\n",
       "         4.85231576e-03,  -1.25765859e-03,   4.14645044e-01,\n",
       "        -3.62324143e+01,   3.64206052e+03,  -4.14037747e+05,\n",
       "         5.28580015e+07,  -7.53002319e+09,   1.19020335e+12])"
      ]
     },
     "metadata": {},
     "output_type": "display_data"
    }
   ],
   "source": [
    "import numpy as np;\n",
    "N = 21;\n",
    "I = np.zeros(N);\n",
    "pi = np.pi;\n",
    "I[0] = 2.0/pi;\n",
    "for n in range(1,N):\n",
    "    I[n] = 1/pi-(2*n)*(2*n-1)/pi/pi*I[n-1];\n",
    "display(I)"
   ]
  },
  {
   "cell_type": "code",
   "execution_count": 50,
   "metadata": {},
   "outputs": [
    {
     "data": {
      "text/plain": [
       "array([ 0.63661977,  0.18930375,  0.08814413,  0.05038387,  0.03243253,\n",
       "        0.02256071,  0.01657396,  0.01267851,  0.01000559,  0.00809385,\n",
       "        0.00668022,  0.00560599,  0.00477083,  0.00410887,  0.00357541,\n",
       "        0.00313929,  0.00277821,  0.00247594,  0.00222036,  0.00200236,\n",
       "        0.00181491])"
      ]
     },
     "metadata": {},
     "output_type": "display_data"
    }
   ],
   "source": [
    "from scipy.integrate import quad;\n",
    "pi = np.pi;\n",
    "N = 21;\n",
    "I_quad = np.zeros(N);\n",
    "def integrand(x,n):\n",
    "    return x**(2*n)*np.sin(pi*x);\n",
    "for n in range(0,N):\n",
    "    I_quad[n] = quad(integrand,0,1, args=(n))[0]\n",
    "display(I_quad)"
   ]
  },
  {
   "cell_type": "code",
   "execution_count": null,
   "metadata": {
    "collapsed": true
   },
   "outputs": [],
   "source": []
  }
 ],
 "metadata": {
  "kernelspec": {
   "display_name": "Python 3",
   "language": "python",
   "name": "python3"
  },
  "language_info": {
   "codemirror_mode": {
    "name": "ipython",
    "version": 3
   },
   "file_extension": ".py",
   "mimetype": "text/x-python",
   "name": "python",
   "nbconvert_exporter": "python",
   "pygments_lexer": "ipython3",
   "version": "3.6.6"
  }
 },
 "nbformat": 4,
 "nbformat_minor": 2
}
