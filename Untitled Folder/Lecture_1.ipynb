{
 "cells": [
  {
   "cell_type": "markdown",
   "metadata": {},
   "source": [
    "<b>Date: July 29, 2019</b>\n",
    "\n",
    "<ul>\n",
    "<li>\n",
    "Course website and other logistics\n",
    "<li>\n",
    "Motivation: Why do this course?\n",
    "\n",
    "    <ul>\n",
    "    <li>\n",
    "    You can make &#8377;'s, &euro;'s &#36;'s etc; <a href=\"Turning Math into Cash\">Turning Math into Cash</a>\n",
    "    <li>\n",
    "    There are tons of open problems, when solved also turns out to be of practical relevance; <a href=\"https://people.maths.ox.ac.uk/trefethen/nov12.pdf\">The Smart Money’s on Numerical Analysts</a>\n",
    "    <li>\n",
    "    Makes you powerful; Provides you tools to advance any field; Almost every field these days have a sub-field prefixed with computational;\n",
    "   \n",
    "    <ul>\n",
    "    <li>\n",
    "    Biology -> Computational Biology,\n",
    "    <li>\n",
    "    Fluid Dynamics -> Computational Fluid Dynamics,\n",
    "    <li>\n",
    "    Number Theory -> Computational Number Theory,\n",
    "    <li>\n",
    "    Machine learning -> Computational Learning Theory,\n",
    "    </ul>\n",
    "    \n",
    "</ul>\n",
    "\n",
    "<li>\n",
    "This course is an introductory course and we will be looking at the following topics:\n",
    "<ul>\n",
    "<li>\n",
    "Interpolation\n",
    "<li>\n",
    "Root finding\n",
    "<li>\n",
    "Numerical Integration\n",
    "<li>\n",
    "Numerical differentiation\n",
    "<li>\n",
    "Numerical solution of ordinary differential equations\n",
    "<li>\n",
    "Monte-Carlo methods\n",
    "</ul>\n",
    "\n",
    "</ul>"
   ]
  },
  {
   "cell_type": "code",
   "execution_count": null,
   "metadata": {
    "collapsed": true
   },
   "outputs": [],
   "source": []
  }
 ],
 "metadata": {
  "kernelspec": {
   "display_name": "Python 3",
   "language": "python",
   "name": "python3"
  },
  "language_info": {
   "codemirror_mode": {
    "name": "ipython",
    "version": 3
   },
   "file_extension": ".py",
   "mimetype": "text/x-python",
   "name": "python",
   "nbconvert_exporter": "python",
   "pygments_lexer": "ipython3",
   "version": "3.6.5"
  }
 },
 "nbformat": 4,
 "nbformat_minor": 2
}
